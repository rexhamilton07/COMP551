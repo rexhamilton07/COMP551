{
  "cells": [
    {
      "cell_type": "markdown",
      "metadata": {
        "id": "bKd6qQ5TLKIn"
      },
      "source": [
        "# COMP 551 - Assignment 1\n",
        "\n",
        "Rex Hamilton, Simon Arts, Talia Cooper"
      ]
    },
    {
      "cell_type": "markdown",
      "metadata": {
        "id": "DUzg2RR7sn88"
      },
      "source": [
        "\n",
        "\n",
        "# Data Collection and Data Cleaning"
      ]
    },
    {
      "cell_type": "markdown",
      "metadata": {
        "id": "hYbAcZxcLl4T"
      },
      "source": [
        "import and install statements"
      ]
    },
    {
      "cell_type": "code",
      "execution_count": null,
      "metadata": {
        "colab": {
          "base_uri": "https://localhost:8080/"
        },
        "id": "puGL2kEqLrUW",
        "outputId": "c2e0ec21-bb6f-4756-9500-fb78213b265c"
      },
      "outputs": [
        {
          "output_type": "stream",
          "name": "stdout",
          "text": [
            "Requirement already satisfied: ucimlrepo in /usr/local/lib/python3.10/dist-packages (0.0.3)\n"
          ]
        }
      ],
      "source": [
        "import numpy as np\n",
        "import pandas as pd\n",
        "!pip install ucimlrepo\n",
        "import matplotlib.pyplot as plt\n",
        "from sklearn.metrics import roc_curve, roc_auc_score\n",
        "import matplotlib.pyplot as plt\n"
      ]
    },
    {
      "cell_type": "markdown",
      "metadata": {
        "id": "gXVEPwd2Lzxo"
      },
      "source": [
        "Data collection (Fetch) functions"
      ]
    },
    {
      "cell_type": "code",
      "execution_count": null,
      "metadata": {
        "id": "z6kKjDT-XWIg"
      },
      "outputs": [],
      "source": [
        "def fetch_data_nutrition():\n",
        "  #import\n",
        "  from ucimlrepo import fetch_ucirepo\n",
        "\n",
        "  # fetch dataset\n",
        "  national_health_and_nutrition_health_survey_2013_2014_nhanes_age_prediction_subset = fetch_ucirepo(id=887)\n",
        "\n",
        "  # data (as pandas dataframes)\n",
        "  X = national_health_and_nutrition_health_survey_2013_2014_nhanes_age_prediction_subset.data.features\n",
        "  y = national_health_and_nutrition_health_survey_2013_2014_nhanes_age_prediction_subset.data.targets\n",
        "\n",
        "  df = pd.DataFrame(X)\n",
        "  # summary = df.describe()\n",
        "  # print(summary)\n",
        "\n",
        "  df[\"y\"] = y\n",
        "  df = df.dropna()\n",
        "  Y = df[\"y\"]\n",
        "  df = df.drop(columns=['y'])\n",
        "\n",
        "  df = df.to_numpy()\n",
        "  Y = Y.to_numpy()\n",
        "\n",
        "  Y = (Y == \"Adult\").astype(int).flatten()\n",
        "\n",
        "  return (df, Y)\n",
        "\n",
        "# fetch_data_nutrition()"
      ]
    },
    {
      "cell_type": "code",
      "execution_count": null,
      "metadata": {
        "id": "BC13w7qDRQfT"
      },
      "outputs": [],
      "source": [
        "def fetch_data_breastcancer():\n",
        "  from ucimlrepo import fetch_ucirepo\n",
        "\n",
        "  # fetch dataset\n",
        "  breast_cancer_wisconsin_original = fetch_ucirepo(id=15)\n",
        "\n",
        "  # data (as pandas dataframes)\n",
        "  X = breast_cancer_wisconsin_original.data.features\n",
        "  y = breast_cancer_wisconsin_original.data.targets\n",
        "\n",
        "  df = pd.DataFrame(X)\n",
        "  # summary = df.describe()\n",
        "  # print(summary)\n",
        "\n",
        "  df[\"y\"] = y\n",
        "  df = df.dropna()\n",
        "  Y = df[\"y\"]\n",
        "  df = df.drop(columns=['y'])\n",
        "\n",
        "  df = df.to_numpy()\n",
        "  Y = Y.to_numpy()\n",
        "\n",
        "  Y = (Y == 4).astype(int).flatten()\n",
        "\n",
        "  return (df, Y)\n",
        "\n",
        "# fetch_data_breastcancer()"
      ]
    },
    {
      "cell_type": "markdown",
      "metadata": {
        "id": "80imFa88MH31"
      },
      "source": [
        "Statistic Functions"
      ]
    },
    {
      "cell_type": "code",
      "execution_count": null,
      "metadata": {
        "id": "YHW5P-lK1vb6"
      },
      "outputs": [],
      "source": [
        "def stats(X, y):\n",
        "\n",
        "  X= pd.DataFrame(X)\n",
        "  y= pd.DataFrame(y)\n",
        "\n",
        "  df = X.copy(True)\n",
        "  df[\"y\"] = y\n",
        "\n",
        "  df_be = df[df[\"y\"] == 1]\n",
        "  df_ml = df[df[\"y\"] == 0]\n",
        "\n",
        "  print(\"Target Feature Means : \")\n",
        "  print(df_be.mean(numeric_only=True))\n",
        "  print(\"\\nNon Target Feature Means : \")\n",
        "  print(df_ml.mean(numeric_only=True))\n",
        "  print(\"\\nSquare Diff between Group Means : \")\n",
        "  df_sq_diff = (df_be.mean(numeric_only=True) - df_ml.mean(numeric_only=True)).pow(2).sort_values(ascending=False)\n",
        "  print(df_sq_diff)\n",
        "\n",
        "#nutrition_data = fetch_data_nutrition()\n",
        "#stats(nutrition_data[0],nutrition_data[1])\n",
        "\n",
        "#breast_cancer_data = fetch_data_breastcancer()\n",
        "#stats(breast_cancer_data[0],breast_cancer_data[1])"
      ]
    },
    {
      "cell_type": "markdown",
      "metadata": {
        "id": "uQcEgL9nsrZa"
      },
      "source": [
        "# KNN Class"
      ]
    },
    {
      "cell_type": "markdown",
      "metadata": {
        "id": "hKhUOwusMQ_7"
      },
      "source": [
        "KNN Class\n",
        "\n",
        "---\n",
        "\n"
      ]
    },
    {
      "cell_type": "code",
      "execution_count": null,
      "metadata": {
        "id": "hKOPbf3ti5PH"
      },
      "outputs": [],
      "source": [
        "euclidean = lambda x1, x2: np.sqrt(np.sum((x1 - x2)**2, axis=-1))\n",
        "manhattan = lambda x1, x2: np.sum(np.abs(x1 - x2), axis=-1)\n",
        "\n",
        "class KNN:\n",
        "\n",
        "    def __init__(self, K=1, dist_fn= euclidean):\n",
        "        self.dist_fn = dist_fn\n",
        "        self.K = K\n",
        "        return\n",
        "\n",
        "    def fit(self, x, y):\n",
        "        self.x = x\n",
        "        self.y = y\n",
        "        self.C = 2\n",
        "        return self\n",
        "\n",
        "    def predict(self, x_test):\n",
        "        num_test = x_test.shape[0]\n",
        "        distances = self.dist_fn(self.x[None,:,:], x_test[:,None,:])\n",
        "        knns = np.zeros((num_test, self.K), dtype=int)\n",
        "        y_prob = np.zeros((num_test, self.C))\n",
        "        for i in range(num_test):\n",
        "            knns[i,:] = np.argsort(distances[i])[:self.K]\n",
        "            y_prob[i,:] = np.bincount(self.y[knns[i,:]], minlength=self.C)\n",
        "        y_prob /= self.K\n",
        "        return y_prob, knns\n"
      ]
    },
    {
      "cell_type": "markdown",
      "metadata": {
        "id": "p5G6HWtGta62"
      },
      "source": [
        "# Decision Tree Class"
      ]
    },
    {
      "cell_type": "markdown",
      "metadata": {
        "id": "MiEKhBfEtOxg"
      },
      "source": [
        "**Decision Tree**\n",
        "\n",
        "\n",
        "---\n",
        "\n"
      ]
    },
    {
      "cell_type": "code",
      "execution_count": null,
      "metadata": {
        "id": "MKTdQeYxtmHI"
      },
      "outputs": [],
      "source": [
        "# DT Classes and Implementations:\n",
        "\n",
        "class Node:\n",
        "    def __init__(self, data_indices, parent):\n",
        "        self.data_indices = data_indices\n",
        "        self.left = None\n",
        "        self.right = None\n",
        "        self.split_feature = None\n",
        "        self.split_value = None\n",
        "        if parent:\n",
        "            self.depth = parent.depth + 1\n",
        "            self.num_classes = parent.num_classes\n",
        "            self.data = parent.data\n",
        "            self.labels = parent.labels\n",
        "            class_prob = np.bincount(self.labels[data_indices], minlength=self.num_classes)\n",
        "            self.class_prob = class_prob / np.sum(class_prob)\n",
        "\n",
        "def greedy_test(node, cost_fn):\n",
        "    best_cost = np.inf\n",
        "    best_feature, best_value = None, None\n",
        "    num_instances, num_features = node.data.shape\n",
        "    data_sorted = np.sort(node.data[node.data_indices],axis=0)\n",
        "    test_candidates = (data_sorted[1:] + data_sorted[:-1]) / 2.\n",
        "    for f in range(num_features):\n",
        "        data_f = node.data[node.data_indices, f]\n",
        "        for test in test_candidates[:,f]:\n",
        "            left_indices = node.data_indices[data_f <= test]\n",
        "            right_indices = node.data_indices[data_f > test]\n",
        "            if len(left_indices) == 0 or len(right_indices) == 0:\n",
        "                continue\n",
        "            left_cost = cost_fn(node.labels[left_indices])\n",
        "            right_cost = cost_fn(node.labels[right_indices])\n",
        "            num_left, num_right = left_indices.shape[0], right_indices.shape[0]\n",
        "            cost = (num_left * left_cost + num_right * right_cost)/num_instances\n",
        "            if cost < best_cost:\n",
        "                best_cost = cost\n",
        "                best_feature = f\n",
        "                best_value = test\n",
        "    return best_cost, best_feature, best_value\n",
        "\n",
        "def cost_misclassification(labels):\n",
        "    class_probs = np.bincount(labels) / len(labels)\n",
        "    return 1 - np.max(class_probs)\n",
        "\n",
        "def cost_entropy(labels):\n",
        "    class_probs = np.bincount(labels) / len(labels)\n",
        "    class_probs = class_probs[class_probs > 0]\n",
        "    return -np.sum(class_probs * np.log2(class_probs))\n",
        "\n",
        "def cost_gini_index(labels):\n",
        "    class_probs = np.bincount(labels) / len(labels)\n",
        "    return 1 - np.sum(np.square(class_probs))\n",
        "\n",
        "\n",
        "class DecisionTree:\n",
        "    def __init__(self, num_classes=None, max_depth=3, cost_fn=cost_misclassification, min_leaf_instances=1):\n",
        "        self.max_depth = max_depth\n",
        "        self.root = None\n",
        "        self.cost_fn = cost_fn\n",
        "        self.num_classes = num_classes\n",
        "        self.min_leaf_instances = min_leaf_instances\n",
        "\n",
        "    def feature_importance(self):\n",
        "        importance_counts = np.zeros(len(self.data[0]))\n",
        "        self._calc_feature_importance(self.root, importance_counts)\n",
        "        return importance_counts\n",
        "\n",
        "    def _calc_feature_importance(self, node, importance_counts):\n",
        "        if node.left is not None and node.right is not None:\n",
        "            importance_counts[node.split_feature] += 1\n",
        "            self._calc_feature_importance(node.left, importance_counts)\n",
        "            self._calc_feature_importance(node.right, importance_counts)\n",
        "\n",
        "\n",
        "def fit(self, data, labels):\n",
        "    self.data = data\n",
        "    self.labels = labels\n",
        "    if self.num_classes is None:\n",
        "        self.num_classes = 2\n",
        "    self.root = Node(np.arange(data.shape[0]), None)\n",
        "    self.root.data = data\n",
        "    self.root.labels = labels\n",
        "    self.root.num_classes = self.num_classes\n",
        "    self.root.depth = 0\n",
        "    self._fit_tree(self.root)\n",
        "    return self\n",
        "\n",
        "def _fit_tree(self, node):\n",
        "    if node.depth == self.max_depth or len(node.data_indices) <= self.min_leaf_instances:\n",
        "        return\n",
        "    cost, split_feature, split_value = greedy_test(node, self.cost_fn)\n",
        "    if np.isinf(cost):\n",
        "        return\n",
        "    test = node.data[node.data_indices,split_feature] <= split_value\n",
        "    node.split_feature = split_feature\n",
        "    node.split_value = split_value\n",
        "    left = Node(node.data_indices[test], node)\n",
        "    right = Node(node.data_indices[np.logical_not(test)], node)\n",
        "    self._fit_tree(left)\n",
        "    self._fit_tree(right)\n",
        "    node.left = left\n",
        "    node.right = right\n",
        "\n",
        "DecisionTree.fit = fit\n",
        "DecisionTree._fit_tree = _fit_tree\n",
        "\n",
        "def predict(self, data_test):\n",
        "    class_probs = np.zeros((data_test.shape[0], self.num_classes))\n",
        "    for n, x in enumerate(data_test):\n",
        "        node = self.root\n",
        "        while node.left:\n",
        "            if x[node.split_feature] <= node.split_value:\n",
        "                node = node.left\n",
        "            else:\n",
        "                node = node.right\n",
        "        class_probs[n,:] = node.class_prob\n",
        "    return class_probs\n",
        "\n",
        "\n",
        "DecisionTree.predict = predict"
      ]
    },
    {
      "cell_type": "markdown",
      "metadata": {
        "id": "pi1kBFBqtmKy"
      },
      "source": [
        "# Helper Functions"
      ]
    },
    {
      "cell_type": "markdown",
      "metadata": {
        "id": "xfBXZhuqNgvZ"
      },
      "source": [
        "**Helper Functions**"
      ]
    },
    {
      "cell_type": "markdown",
      "metadata": {
        "id": "nZqimSRSNpgl"
      },
      "source": [
        "Split by half - takes X & y data and randomly splits the two in half, returning a 4 tuple (x_train, y_train, x_test, y_test)."
      ]
    },
    {
      "cell_type": "code",
      "execution_count": null,
      "metadata": {
        "id": "LcUKQe3BNggM"
      },
      "outputs": [],
      "source": [
        "def split_by_half(X, y):\n",
        "\n",
        "  N = len(X)\n",
        "\n",
        "  inds = np.random.permutation(N)\n",
        "\n",
        "  x_train, y_train = X[inds[:N//2]], y[inds[:N//2]]\n",
        "  x_test, y_test = X[inds[N//2:]], y[inds[N//2:]]\n",
        "\n",
        "  return (x_train, y_train, x_test, y_test)"
      ]
    },
    {
      "cell_type": "markdown",
      "metadata": {
        "id": "Qe7F9swXnx75"
      },
      "source": [
        "Predict Labels - Takes a y probability array and returns the predicted labels (0 or 1)"
      ]
    },
    {
      "cell_type": "code",
      "execution_count": null,
      "metadata": {
        "id": "5M1uMIJTXL1Y"
      },
      "outputs": [],
      "source": [
        "def predict_labels(y_probs):\n",
        "  i=0\n",
        "  N=y_probs.shape[0] - 1\n",
        "\n",
        "\n",
        "  y_predicted_labels = np.zeros(N, dtype=int)\n",
        "\n",
        "  for i in range(N):\n",
        "    y_predicted_labels[i] = np.argmax(y_probs[i])\n",
        "\n",
        "  return y_predicted_labels\n"
      ]
    },
    {
      "cell_type": "markdown",
      "metadata": {
        "id": "hLg_C-L9NwDO"
      },
      "source": [
        "Evaluate Accuracy Function"
      ]
    },
    {
      "cell_type": "code",
      "execution_count": null,
      "metadata": {
        "id": "xiWGHOcP5Ocn"
      },
      "outputs": [],
      "source": [
        "def evaluate_acc(y, predicted_y):\n",
        "  correct = 0\n",
        "  N = y.shape[0] - 1\n",
        "\n",
        "  for i in range(N):\n",
        "    if y[i] == predicted_y[i]:\n",
        "      correct+=1\n",
        "\n",
        "  return (correct/N)*100"
      ]
    },
    {
      "cell_type": "markdown",
      "metadata": {
        "id": "0zvvFfSK_qch"
      },
      "source": [
        "# Selecting Optimal K and Max Tree Depths (Optional) & Constructing General Models\n"
      ]
    },
    {
      "cell_type": "markdown",
      "metadata": {
        "id": "r-Wr0BP4DpkH"
      },
      "source": [
        "Split - takes X & y data and randomly splits into 50% Training, 25% Validation and 25% testing"
      ]
    },
    {
      "cell_type": "code",
      "execution_count": null,
      "metadata": {
        "id": "rtSyOKT5DWRO"
      },
      "outputs": [],
      "source": [
        "def split(X, y):\n",
        "\n",
        "  N = len(X)\n",
        "\n",
        "  inds = np.random.permutation(N)\n",
        "\n",
        "  x_train, y_train = X[inds[N//2:]], y[inds[N//2:]]\n",
        "  x_test, y_test = X[inds[:N//4]], y[inds[:N//4]]\n",
        "  x_validate, y_validate = X[inds[N//4:N//2]], y[inds[N//4:N//2]]\n",
        "\n",
        "  return (x_train, y_train, x_test, y_test, x_validate, y_validate)\n",
        "\n"
      ]
    },
    {
      "cell_type": "code",
      "execution_count": null,
      "metadata": {
        "id": "wkeSh1MjA2v-"
      },
      "outputs": [],
      "source": [
        "def optimal_k(x_train, y_train, x_test, y_test, x_validate, y_validate, max):\n",
        "\n",
        "  opt_k = 1\n",
        "  opt_acc = -1\n",
        "  k = 1\n",
        "\n",
        "  while k < max:\n",
        "\n",
        "    model = KNN(k)\n",
        "\n",
        "    model.fit(x_train, y_train)\n",
        "\n",
        "    y_probs, knn = model.predict(x_validate)\n",
        "\n",
        "    y_labels = predict_labels(y_probs)\n",
        "\n",
        "    acc = evaluate_acc(y_validate, y_labels)\n",
        "\n",
        "    if acc > opt_acc:\n",
        "\n",
        "      opt_acc = acc\n",
        "      opt_k = k\n",
        "\n",
        "    k+=2\n",
        "\n",
        "  print(\"Optimal K: \" + str(opt_k))\n",
        "  print(\"Optimal acc: \" + str(opt_acc))\n",
        "\n",
        "  return opt_k\n"
      ]
    },
    {
      "cell_type": "code",
      "execution_count": null,
      "metadata": {
        "id": "hx7sIGgn1ids"
      },
      "outputs": [],
      "source": [
        "def optimal_depth(x_train, y_train, x_test, y_test, x_validate, y_validate, max):\n",
        "\n",
        "  opt_depth = 1\n",
        "  opt_acc = -1\n",
        "  depth = 1\n",
        "\n",
        "  while depth < max:\n",
        "\n",
        "    model = DecisionTree(max_depth=depth)\n",
        "\n",
        "    model.fit(x_train, y_train)\n",
        "\n",
        "    y_probs = model.predict(x_validate)\n",
        "\n",
        "    y_labels = predict_labels(y_probs)\n",
        "\n",
        "    acc = evaluate_acc(y_validate, y_labels)\n",
        "\n",
        "    if acc > opt_acc:\n",
        "\n",
        "      opt_acc = acc\n",
        "      opt_depth = depth\n",
        "\n",
        "    depth+=2\n",
        "\n",
        "  print(\"Optimal depth: \" + str(opt_depth))\n",
        "  print(\"Optimal acc: \" + str(opt_acc))\n",
        "\n",
        "  return opt_depth\n"
      ]
    },
    {
      "cell_type": "markdown",
      "metadata": {
        "id": "CcN2imPBL0ho"
      },
      "source": [
        "Here we will **construct Generic KNN and DT objects for each Dataset using the optimal k and max depth values**. These will be used as the default inputs for other process throughout the notebook (see AUROC curves and Visualization)."
      ]
    },
    {
      "cell_type": "code",
      "execution_count": null,
      "metadata": {
        "colab": {
          "base_uri": "https://localhost:8080/"
        },
        "id": "00TRp5dGLy-a",
        "outputId": "4a3ea778-42fa-4565-fdb5-6c36c3d5e771"
      },
      "outputs": [
        {
          "output_type": "stream",
          "name": "stdout",
          "text": [
            "Optimal K: 17\n",
            "Optimal acc: 83.83128295254832\n",
            "Optimal depth: 1\n",
            "Optimal acc: 83.83128295254832\n"
          ]
        }
      ],
      "source": [
        "# Nutrition\n",
        "# Fetch Data for Nutrition\n",
        "\n",
        "X_n, y_n = fetch_data_nutrition()\n",
        "\n",
        "x_n_train, y_n_train, x_n_test, y_n_test, x_n_validate, y_n_validate = split(X_n, y_n)\n",
        "\n",
        "k_n = optimal_k(x_n_train, y_n_train, x_n_test, y_n_test, x_n_validate, y_n_validate, 20)\n",
        "depth_n = optimal_depth(x_n_train, y_n_train, x_n_test, y_n_test, x_n_validate, y_n_validate, 20)\n",
        "\n",
        "nutrition_knn_model = KNN(k_n)\n",
        "nutrition_dt_model = DecisionTree(max_depth=depth_n, cost_fn=cost_gini_index )"
      ]
    },
    {
      "cell_type": "code",
      "execution_count": null,
      "metadata": {
        "colab": {
          "base_uri": "https://localhost:8080/"
        },
        "id": "YhYEXMyyMW_4",
        "outputId": "65b26ad1-bb84-4b31-96c4-9fcb7b4f0588"
      },
      "outputs": [
        {
          "output_type": "stream",
          "name": "stdout",
          "text": [
            "Optimal K: 3\n",
            "Optimal acc: 97.05882352941177\n",
            "Optimal depth: 5\n",
            "Optimal acc: 97.05882352941177\n"
          ]
        }
      ],
      "source": [
        "# Breast Cancer\n",
        "# Fetch Data for Breast_cancer\n",
        "\n",
        "X_bc, y_bc = fetch_data_breastcancer()\n",
        "\n",
        "x_bc_train, y_bc_train, x_bc_test, y_bc_test, x_bc_validate, y_bc_validate = split(X_bc, y_bc)\n",
        "\n",
        "k_bc = optimal_k(x_bc_train, y_bc_train, x_bc_test, y_bc_test, x_bc_validate, y_bc_validate, 20)\n",
        "depth_bc = optimal_depth(x_bc_train, y_bc_train, x_bc_test, y_bc_test, x_bc_validate, y_bc_validate, 20)\n",
        "\n",
        "breast_cancer_knn_model = KNN(k_bc)\n",
        "breast_cancer_dt_model = DecisionTree(max_depth=depth_bc, cost_fn=cost_gini_index)"
      ]
    },
    {
      "cell_type": "markdown",
      "metadata": {
        "id": "cB0DkyoltxbC"
      },
      "source": [
        "# Experiments"
      ]
    },
    {
      "cell_type": "markdown",
      "metadata": {
        "id": "LUoVR5Q4ukHq"
      },
      "source": [
        "**Experiment (1)** Comparing the accuracy and AUROC of KNN and DT algorithm on the two datasets"
      ]
    },
    {
      "cell_type": "markdown",
      "source": [
        "**Experiment (5)** Plot the ROC for KNN and DT on the test data. Both ROC curves need to be plotted on\n",
        "the same plot to enable comparison between of the method performance. Also show the\n",
        "AUROC of each method in the figure legend."
      ],
      "metadata": {
        "id": "xAdXfbUDdDTw"
      }
    },
    {
      "cell_type": "code",
      "execution_count": null,
      "metadata": {
        "colab": {
          "base_uri": "https://localhost:8080/"
        },
        "id": "pHqyu7qH2yOV",
        "outputId": "78e1d00a-0ba0-4239-864b-07f33de35f0f"
      },
      "outputs": [
        {
          "output_type": "display_data",
          "data": {
            "text/plain": [
              "<Figure size 400x300 with 1 Axes>"
            ],
            "image/png": "[encoded data removed]"
          },
          "metadata": {}
        },
        {
          "output_type": "display_data",
          "data": {
            "text/plain": [
              "<Figure size 400x300 with 1 Axes>"
            ],
            "image/png": "[encoded data removed]"
          },
          "metadata": {}
        }
      ],
      "source": [
        "# Experiment 1 - AUROC\n",
        "def auroc():\n",
        "\n",
        "  # get probabilities for dt & knn datasets\n",
        "\n",
        "  # Nurtrition\n",
        "  # KNN probs\n",
        "  prob_n_knn, knns_n = nutrition_knn_model.fit(x_n_train, y_n_train).predict(x_n_test)\n",
        "\n",
        "  # DT probs\n",
        "  nutrition_dt_model.fit(x_n_train, y_n_train)\n",
        "  prob_n_dt = nutrition_dt_model.predict(x_n_test)\n",
        "\n",
        "  # Breast Cancer\n",
        "  # KNN probs\n",
        "  prob_bc_knn, knns_bc = breast_cancer_knn_model.fit(x_bc_train, y_bc_train).predict(x_bc_test)\n",
        "\n",
        "  # DT probs\n",
        "  breast_cancer_dt_model.fit(x_bc_train, y_bc_train)\n",
        "  prob_bc_dt = breast_cancer_dt_model.predict(x_bc_test)\n",
        "\n",
        "\n",
        "  # fprs and tprs for ROC's\n",
        "\n",
        "  # Nutrition\n",
        "  fpr_n_knn, tpr_n_knn, _ = roc_curve(y_n_test, prob_n_knn[:, 1])\n",
        "  roc_auc_n_knn = roc_auc_score(y_n_test, prob_n_knn[:, 1])\n",
        "\n",
        "  fpr_n_dt, tpr_n_dt, _ = roc_curve(y_n_test, prob_n_dt[:, 1])\n",
        "  roc_auc_n_dt = roc_auc_score(y_n_test, prob_n_dt[:, 1])\n",
        "\n",
        "  # Breast Cancer\n",
        "  fpr_bc_knn, tpr_bc_knn, _ = roc_curve(y_bc_test, prob_bc_knn[:, 1])\n",
        "  roc_auc_bc_knn = roc_auc_score(y_bc_test, prob_bc_knn[:, 1])\n",
        "\n",
        "  fpr_bc_dt, tpr_bc_dt, _ = roc_curve(y_bc_test, prob_bc_dt[:, 1])\n",
        "  roc_auc_bc_dt = roc_auc_score(y_bc_test, prob_bc_dt[:, 1])\n",
        "\n",
        "\n",
        "  # Creating roc plot\n",
        "\n",
        "  plt.figure(figsize=(4, 3))\n",
        "\n",
        "  plt.plot(fpr_n_knn, tpr_n_knn, color='orange', lw=2, label='KNN(N) (AUC = %0.2f)' % roc_auc_n_knn)\n",
        "  plt.plot(fpr_n_dt, tpr_n_dt, color='red', lw=2, label='DT(N) (AUC = %0.2f)' % roc_auc_n_dt)\n",
        "\n",
        "  plt.plot([0, 1], [0, 1], color='black', lw=2, linestyle='--')\n",
        "  plt.xlabel('False Positive Rate')\n",
        "  plt.ylabel('True Positive Rate')\n",
        "  plt.title('ROC Curve Comparison')\n",
        "  plt.legend(loc=\"lower right\")\n",
        "  plt.show()\n",
        "\n",
        "  plt.figure(figsize=(4, 3))\n",
        "\n",
        "  plt.plot(fpr_bc_knn, tpr_bc_knn, color='blue', lw=2, label='KNN(BC) (AUC = %0.2f)' % roc_auc_bc_knn)\n",
        "  plt.plot(fpr_bc_dt, tpr_bc_dt, color='purple', lw=2, label='DT(BC) (AUC = %0.2f)' % roc_auc_bc_dt)\n",
        "\n",
        "  plt.plot([0, 1], [0, 1], color='black', lw=2, linestyle='--')\n",
        "  plt.xlabel('False Positive Rate')\n",
        "  plt.ylabel('True Positive Rate')\n",
        "  plt.title('ROC Curve Comparison')\n",
        "  plt.legend(loc=\"lower right\")\n",
        "\n",
        "auroc()"
      ]
    },
    {
      "cell_type": "markdown",
      "metadata": {
        "id": "AyGa1TfAN3Jj"
      },
      "source": [
        "**Experiment (2)**  - Testing different K values, to determine which results in the best accuracy."
      ]
    },
    {
      "cell_type": "code",
      "execution_count": null,
      "metadata": {
        "id": "IZG9S07PKupn"
      },
      "outputs": [],
      "source": [
        "# Experiment (2) - Test different K values and see how it affects the training\n",
        "# data accuracy and test data accuracy of KNN\n",
        "\n",
        "def test_knn(num_of_models, x_train, y_train, x_test, y_test):\n",
        "\n",
        "  k = 1\n",
        "  n = 1\n",
        "  while n <= num_of_models:\n",
        "\n",
        "    model = KNN(k)\n",
        "\n",
        "    y_prob_test, knns = model.fit(x_train, y_train).predict(x_test)\n",
        "    y_prob_train, knns = model.fit(x_train, y_train).predict(x_train)\n",
        "\n",
        "\n",
        "    N_train = y_train.shape[0]\n",
        "    N_test = y_test.shape[0]\n",
        "\n",
        "    y_predicted_labels_test = np.zeros(N_test, dtype=int)\n",
        "    y_predicted_labels_train = np.zeros(N_train, dtype=int)\n",
        "\n",
        "    i=0\n",
        "    for i in range(N_test):\n",
        "      y_predicted_labels_test[i] = np.argmax(y_prob_test[i])\n",
        "\n",
        "    j=0\n",
        "    for j in range(N_train):\n",
        "      y_predicted_labels_train[j] = np.argmax(y_prob_train[j])\n",
        "\n",
        "    test_acc = evaluate_acc(y_test, y_predicted_labels_test)\n",
        "    train_acc = evaluate_acc(y_train, y_predicted_labels_train)\n",
        "\n",
        "    print(\"-\" * 50)\n",
        "    print(\"\\n K = \" , k)\n",
        "    print(\"\\n Test Accuracy\" , test_acc)\n",
        "    print(\"\\n Train Accuracy\" , train_acc)\n",
        "    n+=1\n",
        "    k+=2\n"
      ]
    },
    {
      "cell_type": "code",
      "execution_count": null,
      "metadata": {
        "colab": {
          "base_uri": "https://localhost:8080/"
        },
        "id": "f_QPNT4qK0HI",
        "outputId": "70954eed-c477-491d-f201-1c4da8687110"
      },
      "outputs": [
        {
          "output_type": "stream",
          "name": "stdout",
          "text": [
            "Nutrition Dataset : \n",
            "--------------------------------------------------\n",
            "\n",
            " K =  1\n",
            "\n",
            " Test Accuracy 78.16901408450704\n",
            "\n",
            " Train Accuracy 100.0\n",
            "\n",
            " \n",
            " Breast Cancer Dataset : \n",
            "--------------------------------------------------\n",
            "\n",
            " K =  1\n",
            "\n",
            " Test Accuracy 98.22485207100591\n",
            "\n",
            " Train Accuracy 100.0\n"
          ]
        }
      ],
      "source": [
        "#Running Experiment (2)\n",
        "\n",
        "# CHANGE FIRST PARAMETER TO SEE MORE TESTS\n",
        "\n",
        "# Nutrition Data\n",
        "print(\"Nutrition Dataset : \")\n",
        "test_knn(1, x_n_train, y_n_train, x_n_test, y_n_test)\n",
        "\n",
        "# Breast Cancer Data\n",
        "print(\"\\n \\n Breast Cancer Dataset : \")\n",
        "test_knn(1, x_bc_train, y_bc_train, x_bc_test, y_bc_test)\n"
      ]
    },
    {
      "cell_type": "markdown",
      "metadata": {
        "id": "ZPVfn1SKu68u"
      },
      "source": [
        "**Experiment (3)** Testing different max tree depths, to determine which results in the best accuracy."
      ]
    },
    {
      "cell_type": "code",
      "execution_count": null,
      "metadata": {
        "id": "ai4QO8B0uMAM"
      },
      "outputs": [],
      "source": [
        "# Experiment 3\n",
        "\n",
        "def test_dt(num_of_models, x_train, y_train, x_test, y_test):\n",
        "\n",
        "  k = 1\n",
        "  n = 1\n",
        "  while n <= num_of_models:\n",
        "\n",
        "    model = DecisionTree(max_depth=k)\n",
        "\n",
        "    y_prob_test = model.fit(x_train, y_train).predict(x_test)\n",
        "    y_prob_train = model.fit(x_train, y_train).predict(x_train)\n",
        "\n",
        "\n",
        "    N_train = y_train.shape[0]\n",
        "    N_test = y_test.shape[0]\n",
        "\n",
        "    y_predicted_labels_test = np.zeros(N_test, dtype=int)\n",
        "    y_predicted_labels_train = np.zeros(N_train, dtype=int)\n",
        "\n",
        "    i=0\n",
        "    for i in range(N_test):\n",
        "      y_predicted_labels_test[i] = np.argmax(y_prob_test[i])\n",
        "\n",
        "    j=0\n",
        "    for j in range(N_train):\n",
        "      y_predicted_labels_train[j] = np.argmax(y_prob_train[j])\n",
        "\n",
        "    test_acc = evaluate_acc(y_test, y_predicted_labels_test)\n",
        "    train_acc = evaluate_acc(y_train, y_predicted_labels_train)\n",
        "\n",
        "    print(\"-\" * 50)\n",
        "    print(\"\\n Depth = \" , k)\n",
        "    print(\"\\n Test Accuracy\" , test_acc)\n",
        "    print(\"\\n Train Accuracy\" , train_acc)\n",
        "    n+=1\n",
        "    k+=2"
      ]
    },
    {
      "cell_type": "code",
      "execution_count": null,
      "metadata": {
        "colab": {
          "base_uri": "https://localhost:8080/"
        },
        "id": "EDvYBmNwVXBH",
        "outputId": "f86947fc-3ab9-4717-c353-646335fb4e5d"
      },
      "outputs": [
        {
          "output_type": "stream",
          "name": "stdout",
          "text": [
            "Nutrition Dataset : \n",
            "--------------------------------------------------\n",
            "\n",
            " Depth =  1\n",
            "\n",
            " Test Accuracy 84.33098591549296\n",
            "\n",
            " Train Accuracy 84.00702987697716\n",
            "n Breast Cancer Dataset : \n",
            "--------------------------------------------------\n",
            "\n",
            " Depth =  1\n",
            "\n",
            " Test Accuracy 95.26627218934911\n",
            "\n",
            " Train Accuracy 92.66862170087975\n"
          ]
        }
      ],
      "source": [
        "#Running Experiment (3)\n",
        "\n",
        "# CHANGE FIRST PARAMETER TO SEE MORE TESTS\n",
        "\n",
        "# Nutrition Data\n",
        "print(\"Nutrition Dataset : \")\n",
        "test_dt(1, x_n_train, y_n_train, x_n_test, y_n_test)\n",
        "\n",
        "# Breast Cancer Data\n",
        "print(\"n Breast Cancer Dataset : \")\n",
        "test_dt(1, x_bc_train, y_bc_train, x_bc_test, y_bc_test)\n"
      ]
    },
    {
      "cell_type": "markdown",
      "metadata": {
        "id": "7ilqWdUCQDQO"
      },
      "source": [
        "**Experiment (4)** Testing Alternative Cost Functions"
      ]
    },
    {
      "cell_type": "code",
      "execution_count": null,
      "metadata": {
        "colab": {
          "base_uri": "https://localhost:8080/"
        },
        "id": "gpphRM3dQBpM",
        "outputId": "fb308085-99af-4b0d-86fc-f79bd2d29b5a"
      },
      "outputs": [
        {
          "output_type": "stream",
          "name": "stdout",
          "text": [
            "Euclidean Distance Accuracy on Nutrition Data: 83.45070422535211\n",
            "Manhattan Distance Accuracy on Nutrition Data: 82.21830985915493\n",
            "Euclidean Distance Accuracy on Breast Cancer Data: 97.63313609467455\n",
            "Manhattan Distance Accuracy on Breast Cancer Data: 97.63313609467455\n"
          ]
        }
      ],
      "source": [
        "#KNN\n",
        "def cost_functions_knn():\n",
        "  nutrition_dist_euclidean = KNN(5, dist_fn=euclidean)\n",
        "  nutrition_dist_manhattan = KNN(5, dist_fn=manhattan)\n",
        "\n",
        "  nutrition_dist_euclidean.fit(x_n_train, y_n_train)\n",
        "  nutrition_dist_euclidean_prob, knn = nutrition_dist_euclidean.predict(x_n_test)\n",
        "  nutrition_dist_euclidean_labels = predict_labels(nutrition_dist_euclidean_prob)\n",
        "  print(\"Euclidean Distance Accuracy on Nutrition Data: \"+str(evaluate_acc(y_n_test, nutrition_dist_euclidean_labels)))\n",
        "\n",
        "  nutrition_dist_manhattan.fit(x_n_train, y_n_train)\n",
        "  nutrition_dist_manhattan_prob, knn = nutrition_dist_manhattan.predict(x_n_test)\n",
        "  nutrition_dist_manhattan_labels = predict_labels(nutrition_dist_manhattan_prob)\n",
        "  print(\"Manhattan Distance Accuracy on Nutrition Data: \"+str(evaluate_acc(y_n_test, nutrition_dist_manhattan_labels)))\n",
        "\n",
        "  breastcancer_dist_euclidean = KNN(5, dist_fn=euclidean)\n",
        "  breastcancer_dist_manhattan = KNN(5, dist_fn=manhattan)\n",
        "\n",
        "  breastcancer_dist_euclidean.fit(x_bc_train, y_bc_train)\n",
        "  breastcancer_dist_euclidean_prob, knn = breastcancer_dist_euclidean.predict(x_bc_test)\n",
        "  breastcancer_dist_euclidean_labels = predict_labels(breastcancer_dist_euclidean_prob)\n",
        "  print(\"Euclidean Distance Accuracy on Breast Cancer Data: \"+str(evaluate_acc(y_bc_test, breastcancer_dist_euclidean_labels)))\n",
        "\n",
        "  breastcancer_dist_manhattan.fit(x_bc_train, y_bc_train)\n",
        "  breastcancer_dist_manhattan_prob, knn = breastcancer_dist_manhattan.predict(x_bc_test)\n",
        "  breastcancer_dist_manhattan_labels = predict_labels(breastcancer_dist_manhattan_prob)\n",
        "  print(\"Manhattan Distance Accuracy on Breast Cancer Data: \"+str(evaluate_acc(y_bc_test, breastcancer_dist_manhattan_labels)))\n",
        "\n",
        "cost_functions_knn()\n"
      ]
    },
    {
      "cell_type": "code",
      "execution_count": null,
      "metadata": {
        "colab": {
          "base_uri": "https://localhost:8080/"
        },
        "id": "fvJgVvg0QW7D",
        "outputId": "a3d65ad5-5b4e-40fa-9ba1-051faa2754d6"
      },
      "outputs": [
        {
          "output_type": "stream",
          "name": "stdout",
          "text": [
            "Cost Misclassification Accuracy on Nutrition Data: 84.15492957746478\n",
            "Entropy Accuracy on Nutrition Data: 77.8169014084507\n",
            "Gini Index Accuracy on Nutrition Data: 77.46478873239437\n",
            "Cost Misclassification Accuracy on Breast Cancer Data: 96.44970414201184\n",
            "Entropy Accuracy on Breast Cancer Data: 96.44970414201184\n",
            "Gini Index Accuracy on Breast Cancer Data: 95.26627218934911\n"
          ]
        }
      ],
      "source": [
        "# Decision Tree\n",
        "\n",
        "def cost_functions_dt():\n",
        "  nutrition_cost_misclassification = DecisionTree(max_depth=10, cost_fn=cost_misclassification)\n",
        "  bc_cost_misclassification = DecisionTree(max_depth=10, cost_fn=cost_misclassification)\n",
        "  nutrition_entropy = DecisionTree(max_depth=10, cost_fn=cost_entropy)\n",
        "  bc_entropy = DecisionTree(max_depth=10, cost_fn=cost_entropy)\n",
        "  nutrition_gini = DecisionTree(max_depth=10, cost_fn=cost_gini_index)\n",
        "  bc_gini = DecisionTree(max_depth=10, cost_fn=cost_gini_index)\n",
        "\n",
        "  nutrition_cost_misclassification.fit(x_n_train, y_n_train)\n",
        "  nutrition_cost_misclassification_prob = nutrition_cost_misclassification.predict(x_n_test)\n",
        "  nutrition_cost_misclassification_prob = predict_labels(nutrition_cost_misclassification_prob)\n",
        "  print(\"Cost Misclassification Accuracy on Nutrition Data: \"+str(evaluate_acc(y_n_test, nutrition_cost_misclassification_prob)))\n",
        "\n",
        "  nutrition_entropy.fit(x_n_train, y_n_train)\n",
        "  nutrition_entropy_prob = nutrition_entropy.predict(x_n_test)\n",
        "  nutrition_entropy_prob = predict_labels(nutrition_entropy_prob)\n",
        "  print(\"Entropy Accuracy on Nutrition Data: \"+str(evaluate_acc(y_n_test, nutrition_entropy_prob)))\n",
        "\n",
        "  nutrition_gini.fit(x_n_train, y_n_train)\n",
        "  nutrition_gini_prob = nutrition_gini.predict(x_n_test)\n",
        "  nutrition_gini_prob = predict_labels(nutrition_gini_prob)\n",
        "  print(\"Gini Index Accuracy on Nutrition Data: \"+str(evaluate_acc(y_n_test, nutrition_gini_prob)))\n",
        "\n",
        "  bc_cost_misclassification.fit(x_bc_train, y_bc_train)\n",
        "  bc_cost_misclassification_prob = bc_cost_misclassification.predict(x_bc_test)\n",
        "  bc_cost_misclassification_prob = predict_labels(bc_cost_misclassification_prob)\n",
        "  print(\"Cost Misclassification Accuracy on Breast Cancer Data: \"+str(evaluate_acc(y_bc_test, bc_cost_misclassification_prob)))\n",
        "\n",
        "  bc_entropy.fit(x_bc_train, y_bc_train)\n",
        "  bc_entropy_prob = bc_cost_misclassification.predict(x_bc_test)\n",
        "  bc_entropy_prob = predict_labels(bc_entropy_prob)\n",
        "  print(\"Entropy Accuracy on Breast Cancer Data: \"+str(evaluate_acc(y_bc_test, bc_entropy_prob)))\n",
        "\n",
        "  bc_gini.fit(x_bc_train, y_bc_train)\n",
        "  bc_gini_prob = bc_gini.predict(x_bc_test)\n",
        "  bc_gini_prob = predict_labels(bc_gini_prob)\n",
        "  print(\"Gini Index Accuracy on Breast Cancer Data: \"+str(evaluate_acc(y_bc_test, bc_gini_prob)))\n",
        "\n",
        "cost_functions_dt()"
      ]
    },
    {
      "cell_type": "markdown",
      "metadata": {
        "id": "wQJodX4voJ3f"
      },
      "source": [
        "**Experiment (6)** Obtaining Key features of KNN.\n",
        "When looking at the stats functions as well as the plot below we can determine that many of the fields do not contribute to a difference between the classes.\n",
        "\n",
        "In the stats function many fields have a low squared difference of means.\n",
        "In the plot, there is ver little correllation between many of the classes.\n",
        "\n",
        "I will maintain the top 3 correlated fields of each dataset and drop the others, then I will compare to the orignal KNN model for each dataset"
      ]
    },
    {
      "cell_type": "code",
      "execution_count": null,
      "metadata": {
        "colab": {
          "base_uri": "https://localhost:8080/"
        },
        "id": "EvOxaJQQn_79",
        "outputId": "b72ec092-9791-4236-bed9-8fd7d68f6b6b"
      },
      "outputs": [
        {
          "output_type": "stream",
          "name": "stdout",
          "text": [
            "\n",
            " Nutrition Top 3 Collumns\n",
            "--------------------------------------------------\n",
            "\n",
            " K =  1\n",
            "\n",
            " Test Accuracy 77.68014059753953\n",
            "\n",
            " Train Accuracy 100.0\n",
            "\n",
            " Nutrition All Collumns\n",
            "--------------------------------------------------\n",
            "\n",
            " K =  1\n",
            "\n",
            " Test Accuracy 78.16901408450704\n",
            "\n",
            " Train Accuracy 100.0\n",
            "\n",
            " Breast Cancer Top 3 Collumns\n",
            "--------------------------------------------------\n",
            "\n",
            " K =  1\n",
            "\n",
            " Test Accuracy 94.13489736070382\n",
            "\n",
            " Train Accuracy 98.82352941176471\n",
            "\n",
            " Breast Cancer All Collumns\n",
            "--------------------------------------------------\n",
            "\n",
            " K =  1\n",
            "\n",
            " Test Accuracy 98.22485207100591\n",
            "\n",
            " Train Accuracy 100.0\n"
          ]
        }
      ],
      "source": [
        "#Experiment 6 Obtaining Key KNN features.\n",
        "\n",
        "#Drop all the fields not within the top 3 squared difference ranked from highest to lowest.\n",
        "\n",
        "def only_correlated(X, y, n):\n",
        "\n",
        "  X = pd.DataFrame(X)\n",
        "  y = pd.DataFrame(y)\n",
        "\n",
        "  df = X.copy()\n",
        "  df[\"y\"] = y\n",
        "\n",
        "  df_be = df[df[\"y\"] == 1]\n",
        "  df_ml = df[df[\"y\"] == 0]\n",
        "\n",
        "  df_be = df_be.drop(['y'], axis=1)\n",
        "  df_ml = df_ml.drop(['y'], axis=1)\n",
        "\n",
        "  df_sq_diff = (df_be.mean(numeric_only=True) - df_ml.mean(numeric_only=True)).pow(2).argsort()\n",
        "\n",
        "  non_correlated_cols = df_sq_diff[:df_sq_diff.shape[0]-n]\n",
        "  df = df.drop(non_correlated_cols, axis=1)\n",
        "\n",
        "  y_rem = df[\"y\"].to_numpy()\n",
        "  X_rem = df.drop('y', axis=1).to_numpy()\n",
        "\n",
        "  x_train_rem, y_train_rem, x_test_rem, y_test_rem = split_by_half(X_rem, y_rem)\n",
        "\n",
        "  return(x_train_rem, y_train_rem, x_test_rem, y_test_rem)\n",
        "\n",
        "\n",
        "oc_n = only_correlated(X_n, y_n, 3)\n",
        "\n",
        "# CHANGE FIRST PARAMETER TO SEE MORE TESTS\n",
        "\n",
        "print(\"\\n Nutrition Top 3 Collumns\")\n",
        "test_knn(1, oc_n[0], oc_n[1], oc_n[2], oc_n[3])\n",
        "\n",
        "\n",
        "print(\"\\n Nutrition All Collumns\")\n",
        "test_knn(1, x_n_train, y_n_train, x_n_test, y_n_test)\n",
        "\n",
        "oc_bc = only_correlated(X_bc, y_bc, 3)\n",
        "\n",
        "print(\"\\n Breast Cancer Top 3 Collumns\")\n",
        "test_knn(1, oc_bc[0], oc_bc[1], oc_bc[2], oc_bc[3])\n",
        "\n",
        "\n",
        "print(\"\\n Breast Cancer All Collumns\")\n",
        "test_knn(1, x_bc_train, y_bc_train, x_bc_test, y_bc_test)\n",
        "\n"
      ]
    },
    {
      "cell_type": "markdown",
      "metadata": {
        "id": "psYGAVzH6n7O"
      },
      "source": [
        "**Experiment(7)** Computing a rough feature importance score for each feature d by counting the number of non-leaf nodes where feature d is used.\n"
      ]
    },
    {
      "cell_type": "code",
      "source": [
        "def find_importance(X, y, num_classes=None, max_depth=3, cost_fn=cost_misclassification, min_leaf_instances=1, top_features_count=9):\n",
        "\n",
        "    x_train, y_train, x_test, y_test = only_correlated(X, y, top_features_count)\n",
        "    tree = DecisionTree(num_classes=num_classes, max_depth=max_depth, cost_fn=cost_fn, min_leaf_instances=min_leaf_instances)\n",
        "    tree.fit(x_train, y_train)\n",
        "    importance_scores = tree.feature_importance()\n",
        "\n",
        "    top_features_indices = np.argsort(importance_scores)[-top_features_count:]\n",
        "\n",
        "    print(\"Top {} Features:\".format(top_features_count))\n",
        "    for i in top_features_indices:\n",
        "        print(\"Feature {}: Importance Score: {}\".format(i, importance_scores[i]))\n",
        "\n",
        "    return x_train, y_train, x_test, y_test, top_features_indices\n",
        "\n",
        "print(\"\\nNutrition Feature Importance: \\n\")\n",
        "X_n, y_n = fetch_data_nutrition()\n",
        "x_n_train, y_n_train, x_n_test, y_n_test, top_features = find_importance(X_n, y_n, top_features_count=7)\n",
        "\n",
        "print(\"\\nBreast Cancer Feature Importance: \\n\")\n",
        "X_bc, y_bc = fetch_data_breastcancer()\n",
        "x_bc_train, y_bc_train, x_bc_test, y_bc_test, top_features = find_importance(X_bc, y_bc, top_features_count=9)\n"
      ],
      "metadata": {
        "colab": {
          "base_uri": "https://localhost:8080/"
        },
        "id": "StVOBi8V1uRI",
        "outputId": "42c7f057-1d41-4d93-ac9c-d4effb6a4f90"
      },
      "execution_count": null,
      "outputs": [
        {
          "output_type": "stream",
          "name": "stdout",
          "text": [
            "\n",
            "Nutrition Feature Importance: \n",
            "\n",
            "Top 7 Features:\n",
            "Feature 3: Importance Score: 0.0\n",
            "Feature 4: Importance Score: 0.0\n",
            "Feature 5: Importance Score: 0.0\n",
            "Feature 0: Importance Score: 1.0\n",
            "Feature 1: Importance Score: 1.0\n",
            "Feature 6: Importance Score: 1.0\n",
            "Feature 2: Importance Score: 4.0\n",
            "\n",
            "Breast Cancer Feature Importance: \n",
            "\n",
            "Top 9 Features:\n",
            "Feature 3: Importance Score: 0.0\n",
            "Feature 4: Importance Score: 0.0\n",
            "Feature 7: Importance Score: 0.0\n",
            "Feature 0: Importance Score: 1.0\n",
            "Feature 1: Importance Score: 1.0\n",
            "Feature 5: Importance Score: 1.0\n",
            "Feature 6: Importance Score: 1.0\n",
            "Feature 8: Importance Score: 1.0\n",
            "Feature 2: Importance Score: 2.0\n"
          ]
        }
      ]
    },
    {
      "cell_type": "markdown",
      "metadata": {
        "id": "4WJI8J7jt4aT"
      },
      "source": [
        "# Additional Testing & Optional Experiments"
      ]
    },
    {
      "cell_type": "markdown",
      "source": [
        "Optional Experiment - K Cross fold validation"
      ],
      "metadata": {
        "id": "34i9ABXSc-S5"
      }
    },
    {
      "cell_type": "code",
      "execution_count": null,
      "metadata": {
        "colab": {
          "base_uri": "https://localhost:8080/"
        },
        "id": "PbcYNVwh7W-h",
        "outputId": "c599dcec-7514-4f4b-d599-2caf639b446d"
      },
      "outputs": [
        {
          "output_type": "stream",
          "name": "stdout",
          "text": [
            "KNN : 17\n",
            "Accuracy of regular knn: 83.39191564147627\n",
            "Accuracy of performing K cross fold validation : 83.399209486166\n"
          ]
        }
      ],
      "source": [
        "from sklearn.model_selection import KFold\n",
        "\n",
        "def cross_validate(model, X, Y):\n",
        "\n",
        "    kf = KFold(n_splits=5, random_state=1, shuffle=True)\n",
        "    y = np.array([0] * X.shape[0])\n",
        "    yh = np.empty((X.shape[0], 2))\n",
        "\n",
        "    for train_index, test_index in kf.split(X):\n",
        "\n",
        "        model.fit(X[train_index], Y[train_index])\n",
        "\n",
        "        y[test_index] = Y[test_index]\n",
        "        yh[test_index] = model.predict(X[test_index])[0]\n",
        "\n",
        "    return y, yh\n",
        "\n",
        "\n",
        "nutrition_knn_kfold = KNN(k_n)\n",
        "print(\"KNN : \" +  str(k_n))\n",
        "\n",
        "def_knn = KNN(k_n)\n",
        "\n",
        "def_knn.fit(x_n_train, y_n_train)\n",
        "probs, knn = def_knn.predict(x_n_test)\n",
        "pred = predict_labels(probs)\n",
        "\n",
        "print(\"Accuracy of regular knn: \" + str(evaluate_acc(y_n_test, pred)))\n",
        "\n",
        "\n",
        "y_true_n, y_n_probs = cross_validate(nutrition_knn_kfold, X_n, y_n)\n",
        "y_n_predicted = predict_labels(y_n_probs)\n",
        "\n",
        "print(\"Accuracy of performing K cross fold validation : \" + str(evaluate_acc(y_n, y_n_predicted)))\n",
        "\n"
      ]
    },
    {
      "cell_type": "markdown",
      "source": [
        "Optional Experiment - Implementing k-cross fold validation"
      ],
      "metadata": {
        "id": "n0Z3FvQFnNu_"
      }
    },
    {
      "cell_type": "code",
      "source": [],
      "metadata": {
        "id": "qIilyBJnnNWH"
      },
      "execution_count": null,
      "outputs": []
    },
    {
      "cell_type": "markdown",
      "metadata": {
        "id": "HuIZF6T0uFQo"
      },
      "source": [
        "# Plots & Visualization"
      ]
    },
    {
      "cell_type": "code",
      "execution_count": null,
      "metadata": {
        "colab": {
          "base_uri": "https://localhost:8080/"
        },
        "id": "7In5a47Wljcz",
        "outputId": "2ed70ccf-bf2d-4850-ec58-3f205c15f877"
      },
      "outputs": [
        {
          "output_type": "display_data",
          "data": {
            "text/plain": [
              "<Figure size 400x400 with 1 Axes>"
            ],
            "image/png": "[encoded data removed]"
          },
          "metadata": {}
        },
        {
          "output_type": "display_data",
          "data": {
            "text/plain": [
              "<Figure size 400x400 with 1 Axes>"
            ],
            "image/png": "[encoded data removed]"
          },
          "metadata": {}
        }
      ],
      "source": [
        "# Plot to show signifigant KNN features\n",
        "\n",
        "x_axis = X_n[:, 6]\n",
        "y_axis = X_n[:, 2]\n",
        "\n",
        "# Differentiate the classes\n",
        "class_1 = y_n == 1  # Assuming class '1' indicates breast cancer\n",
        "class_0 = y_n == 0  # Assuming class '0' indicates no breast cancer\n",
        "\n",
        "plt.figure(figsize=(4, 4))\n",
        "plt.scatter(x_axis[class_1], y_axis[class_1], color='red', label='Positive')\n",
        "plt.scatter(x_axis[class_0], y_axis[class_0], color='blue', label='Negative')\n",
        "plt.xlabel('Feature 6')\n",
        "plt.ylabel('Feature 2')\n",
        "plt.title('Nutrition Dataset Visualization')\n",
        "plt.legend()\n",
        "plt.show()\n",
        "\n",
        "# Breast Cancer Visualization\n",
        "\n",
        "x_axis = X_bc[:, 3]\n",
        "y_axis = X_bc[:, 5]\n",
        "\n",
        "class_1 = y_bc == 1\n",
        "class_0 = y_bc == 0\n",
        "\n",
        "plt.figure(figsize=(4, 4))\n",
        "plt.scatter(x_axis[class_1], y_axis[class_1], color='red', label='Breast Cancer')\n",
        "plt.scatter(x_axis[class_0], y_axis[class_0], color='blue', label='Non-Breast Cancer')\n",
        "plt.xlabel('Feature 3')\n",
        "plt.ylabel('Feature 5')\n",
        "plt.title('Breast Cancer Dataset Visualization')\n",
        "plt.legend()\n",
        "plt.show()\n",
        "\n"
      ]
    }
  ],
  "metadata": {
    "colab": {
      "provenance": []
    },
    "kernelspec": {
      "display_name": "Python 3",
      "name": "python3"
    },
    "language_info": {
      "name": "python"
    }
  },
  "nbformat": 4,
  "nbformat_minor": 0
}